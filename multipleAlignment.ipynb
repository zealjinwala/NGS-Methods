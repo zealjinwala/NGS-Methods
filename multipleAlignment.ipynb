{
 "cells": [
  {
   "cell_type": "markdown",
   "metadata": {},
   "source": [
    "# Multiple Sequence Alignment & Profiles\n",
    "Date: Feb 22, 2022 \\\n",
    "By Zeal Jinwala"
   ]
  },
  {
   "cell_type": "markdown",
   "metadata": {},
   "source": [
    "run psi blast on sequence"
   ]
  },
  {
   "cell_type": "code",
   "execution_count": null,
   "metadata": {},
   "outputs": [],
   "source": []
  },
  {
   "cell_type": "markdown",
   "metadata": {},
   "source": [
    "remove redundants \\\n",
    "run clustalo \\\n",
    "load data \\ \n",
    "calculate PSSM \\\n",
    "Hydrophobicity Plot \\\n",
    "Entropy plot \\\n",
    "Sequence logo "
   ]
  }
 ],
 "metadata": {
  "language_info": {
   "name": "python"
  },
  "orig_nbformat": 4
 },
 "nbformat": 4,
 "nbformat_minor": 2
}
